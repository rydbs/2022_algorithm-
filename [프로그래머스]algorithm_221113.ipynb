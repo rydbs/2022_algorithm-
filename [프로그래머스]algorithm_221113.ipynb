{
 "cells": [
  {
   "cell_type": "markdown",
   "metadata": {},
   "source": [
    "1. 정수 내림차순으로 배치하기  \n",
    "함수 solution은 정수 n을 매개변수로 입력받습니다. n의 각 자릿수를 큰것부터 작은 순으로 정렬한 새로운 정수를 리턴\n",
    "    * n은 1이상 8000000000 이하인 자연수"
   ]
  },
  {
   "cell_type": "code",
   "execution_count": null,
   "metadata": {},
   "outputs": [],
   "source": [
    "def solution(n):\n",
    "    listN=list(str(int(n)))\n",
    "    listN.sort(reverse=True)\n",
    "    return int(\"\".join(listN))\n",
    "\n",
    "#sort 없이 다시"
   ]
  },
  {
   "cell_type": "markdown",
   "metadata": {},
   "source": [
    "2. 나머지가 1이 되는 수 찾기  \n",
    "자연수 n이 매개변수로 주어집니다. n을 x로 나눈 나머지가 1이 되도록 하는 가장 작은 자연수 x를 return 하도록 solution 함수를 완성\n",
    "    * 3 ≤ n ≤ 1,000,000"
   ]
  },
  {
   "cell_type": "code",
   "execution_count": null,
   "metadata": {},
   "outputs": [],
   "source": [
    "def solution(n):\n",
    "    i=2\n",
    "    while i:\n",
    "        if n%i==1:\n",
    "            return i\n",
    "            break\n",
    "            \n",
    "        else:\n",
    "            i+=1"
   ]
  },
  {
   "cell_type": "markdown",
   "metadata": {},
   "source": [
    "3. 두 정수 사이의 합  \n",
    "두 정수 a, b가 주어졌을 때 a와 b 사이에 속한 모든 정수의 합을 리턴하는 함수, solution을 완성\n",
    "    * a와 b가 같은 경우는 둘 중 아무 수나 리턴\n",
    "    * a와 b는 -10,000,000 이상 10,000,000 이하인 정수\n",
    "    * a와 b의 대소관계는 정해져있지 않음"
   ]
  },
  {
   "cell_type": "code",
   "execution_count": null,
   "metadata": {},
   "outputs": [],
   "source": [
    "def solution(a, b):\n",
    "    answer=0\n",
    "    \n",
    "    if a>b:\n",
    "        min=b\n",
    "        max=a\n",
    "    else:\n",
    "        min=a\n",
    "        max=b\n",
    "        \n",
    "    for i in range(min, max+1):\n",
    "        answer+=i\n",
    "\n",
    "    return answer"
   ]
  },
  {
   "cell_type": "markdown",
   "metadata": {},
   "source": [
    "4. 콜라츠 추측  \n",
    "1937년 Collatz란 사람에 의해 제기된 이 추측은, 주어진 수가 1이 될 때까지 다음 작업을 반복하면, 모든 수를 1로 만들 수 있다는 추측입니다. 작업은 다음과 같습니다.  \n",
    "1-1) 입력된 수가 짝수라면 2로 나눕니다.   \n",
    "1-2) 입력된 수가 홀수라면 3을 곱하고 1을 더합니다.   \n",
    "2-1) 결과로 나온 수에 같은 작업을 1이 될 때까지 반복합니다.   \n",
    "예를 들어, 주어진 수가 6이라면 6 → 3 → 10 → 5 → 16 → 8 → 4 → 2 → 1 이 되어 총 8번 만에 1이 됩니다. 위 작업을 몇 번이나 반복해야 하는지 반환하는 함수, solution을 완성해 주세요. 단, 주어진 수가 1인 경우에는 0을, 작업을 500번 반복할 때까지 1이 되지 않는다면 –1을 반환\n",
    "    * 입력된 수, num은 1 이상 8,000,000 미만인 정수"
   ]
  },
  {
   "cell_type": "code",
   "execution_count": null,
   "metadata": {},
   "outputs": [],
   "source": [
    "def solution(num):\n",
    "    answer = 0\n",
    "    \n",
    "    while num!=1:\n",
    "        if answer>500:\n",
    "            return -1\n",
    "        if num%2==0:\n",
    "            num=num/2\n",
    "        elif num%2==1:\n",
    "            num=num*3+1\n",
    "        answer+=1\n",
    "    \n",
    "    return answer"
   ]
  },
  {
   "cell_type": "markdown",
   "metadata": {},
   "source": [
    "5. 김서방 찾기  \n",
    "String형 배열 seoul의 element중 \"Kim\"의 위치 x를 찾아, \"김서방은 x에 있다\"는 String을 반환하는 함수, solution을 완성. seoul에 \"Kim\"은 오직 한 번만 나타나며 잘못된 값이 입력되는 경우는 없음\n",
    "    * seoul은 길이 1 이상, 1000 이하인 배열\n",
    "    * seoul의 원소는 길이 1 이상, 20 이하인 문자열\n",
    "    * \"Kim\"은 반드시 seoul 안에 포함되어 있음"
   ]
  },
  {
   "cell_type": "code",
   "execution_count": null,
   "metadata": {},
   "outputs": [],
   "source": [
    "def solution(seoul):\n",
    "    \n",
    "    for i in range(len(seoul)):\n",
    "        if seoul[i]==\"Kim\":\n",
    "            answer=i\n",
    "            \n",
    "    return('김서방은 '+str(answer)+'에 있다')"
   ]
  },
  {
   "cell_type": "markdown",
   "metadata": {},
   "source": [
    "6. 핸드폰 번호 가리기  \n",
    "프로그래머스 모바일은 개인정보 보호를 위해 고지서를 보낼 때 고객들의 전화번호의 일부를 가립니다.\n",
    "전화번호가 문자열 phone_number로 주어졌을 때, 전화번호의 뒷 4자리를 제외한 나머지 숫자를 전부 *으로 가린 문자열을 리턴하는 함수, solution을 완성\n",
    "    * phone_number는 길이 4 이상, 20이하인 문자열"
   ]
  },
  {
   "cell_type": "code",
   "execution_count": null,
   "metadata": {},
   "outputs": [],
   "source": [
    "def solution(phone_number):\n",
    "    answer=[]    \n",
    "    listN=list(phone_number)\n",
    "    \n",
    "    for i in range(len(listN)-4):\n",
    "        answer.append(\"*\")\n",
    "    \n",
    "    answer.extend(listN[-4:])\n",
    "    answer=''.join(answer)\n",
    "    \n",
    "    return answer"
   ]
  },
  {
   "cell_type": "markdown",
   "metadata": {},
   "source": [
    "7. 나누어 떨어지는 숫자 배열  \n",
    "array의 각 element 중 divisor로 나누어 떨어지는 값을 오름차순으로 정렬한 배열을 반환하는 함수, solution을 작성해주세요.\n",
    "divisor로 나누어 떨어지는 element가 하나도 없다면 배열에 -1을 담아 반환\n",
    "    * arr은 자연수를 담은 배열입니다.\n",
    "    * 정수 i, j에 대해 i ≠ j 이면 arr[i] ≠ arr[j] 입니다.\n",
    "    * divisor는 자연수입니다.\n",
    "    * array는 길이 1 이상인 배열"
   ]
  },
  {
   "cell_type": "code",
   "execution_count": null,
   "metadata": {},
   "outputs": [],
   "source": [
    "def solution(arr, divisor):\n",
    "    answer=[]\n",
    "    \n",
    "    for i in arr:\n",
    "        if i%divisor==0:\n",
    "            answer.append(i)\n",
    "        \n",
    "    if len(answer)==0:\n",
    "        answer.append(-1)\n",
    "        \n",
    "    answer.sort()\n",
    "            \n",
    "    return answer"
   ]
  },
  {
   "cell_type": "markdown",
   "metadata": {},
   "source": [
    "8. 제일 작은 수 제거하기  \n",
    "정수를 저장한 배열, arr 에서 가장 작은 수를 제거한 배열을 리턴하는 함수, solution을 완성해주세요. 단, 리턴하려는 배열이 빈 배열인 경우엔 배열에 -1을 채워 리턴\n",
    "    * arr은 길이 1 이상인 배열\n",
    "    * 인덱스 i, j에 대해 i ≠ j이면 arr[i] ≠ arr[j]"
   ]
  },
  {
   "cell_type": "code",
   "execution_count": null,
   "metadata": {},
   "outputs": [],
   "source": [
    "def solution(arr):\n",
    "    \n",
    "    if len(arr)==0:\n",
    "        arr.append(-1)\n",
    "        return arr\n",
    "    \n",
    "    elif len(arr)==1 and arr[0]==10:\n",
    "        arr[0]=-1\n",
    "        return arr\n",
    "    \n",
    "    else:\n",
    "        arr.remove(min(arr))\n",
    "        return arr"
   ]
  },
  {
   "cell_type": "markdown",
   "metadata": {},
   "source": [
    "9. 음양더하기  \n",
    "어떤 정수들이 있습니다. 이 정수들의 절댓값을 차례대로 담은 정수 배열 absolutes와 이 정수들의 부호를 차례대로 담은 불리언 배열 signs가 매개변수로 주어집니다. 실제 정수들의 합을 구하여 return 하도록 solution 함수를 완성\n",
    "    * absolutes의 길이는 1 이상 1,000 이하\n",
    "    * absolutes의 모든 수는 각각 1 이상 1,000 이하\n",
    "    * signs의 길이는 absolutes의 길이와 같음\n",
    "    * signs[i] 가 참이면 absolutes[i] 의 실제 정수가 양수임을, 그렇지 않으면 음수임을 의미"
   ]
  },
  {
   "cell_type": "code",
   "execution_count": null,
   "metadata": {},
   "outputs": [],
   "source": [
    "def solution(absolutes, signs):\n",
    "    answer=0\n",
    "    \n",
    "    for i in range(0, len(absolutes)):\n",
    "        if signs[i]==True:\n",
    "            answer+=absolutes[i]\n",
    "\n",
    "        else:\n",
    "            answer-=absolutes[i]\n",
    "            \n",
    "        i+1\n",
    "        \n",
    "    return answer"
   ]
  },
  {
   "cell_type": "markdown",
   "metadata": {},
   "source": [
    "10. 없는 숫자 더하기  \n",
    "0부터 9까지의 숫자 중 일부가 들어있는 정수 배열 numbers가 매개변수로 주어집니다. numbers에서 찾을 수 없는 0부터 9까지의 숫자를 모두 찾아 더한 수를 return 하도록 solution 함수를 완성\n",
    "    * 1 ≤ numbers의 길이 ≤ 9\n",
    "    * 0 ≤ numbers의 모든 원소 ≤ 9\n",
    "    * numbers의 모든 원소는 서로 다름"
   ]
  },
  {
   "cell_type": "code",
   "execution_count": null,
   "metadata": {},
   "outputs": [],
   "source": [
    "def solution(numbers):\n",
    "    \n",
    "    res=0\n",
    "    \n",
    "    for i in range(1, 10):\n",
    "        if i not in numbers:\n",
    "            res+=i\n",
    "            i+1\n",
    "        \n",
    "    return res"
   ]
  },
  {
   "cell_type": "markdown",
   "metadata": {},
   "source": [
    "11. 가운데 글자 가져오기  \n",
    "단어 s의 가운데 글자를 반환하는 함수, solution을 만들어 보세요. 단어의 길이가 짝수라면 가운데 두글자를 반환\n",
    "    * s는 길이가 1 이상, 100이하인 스트링"
   ]
  },
  {
   "cell_type": "code",
   "execution_count": null,
   "metadata": {},
   "outputs": [],
   "source": [
    "def solution(s):\n",
    "    listS=list(s)\n",
    "    answer=[]\n",
    "    \n",
    "    if len(s)%2==1:\n",
    "        return listS[len(s)//2]\n",
    "    \n",
    "    else:\n",
    "        answer.append(listS[(len(s)//2)-1])\n",
    "        answer.append(listS[len(s)//2])\n",
    "        return ''.join(answer)"
   ]
  },
  {
   "cell_type": "markdown",
   "metadata": {},
   "source": [
    "12. 수박수박수박수?  \n",
    "길이가 n이고, \"수박수박수박수....\"와 같은 패턴을 유지하는 문자열을 리턴하는 함수, solution을 완성하세요. 예를들어 n이 4이면 \"수박수박\"을 리턴하고 3이라면 \"수박수\"를 리턴\n",
    "    * n은 길이 10,000이하인 자연수\n"
   ]
  },
  {
   "cell_type": "code",
   "execution_count": null,
   "metadata": {},
   "outputs": [],
   "source": [
    "def solution(n):\n",
    "    answer=[]\n",
    "    \n",
    "    for i in range(n):\n",
    "        if i%2==0:\n",
    "            answer.append('수')\n",
    "        else:\n",
    "            answer.append('박')\n",
    "\n",
    "    return ''.join(answer)"
   ]
  },
  {
   "cell_type": "markdown",
   "metadata": {},
   "source": [
    "13. 내적  \n",
    "길이가 같은 두 1차원 정수 배열 a, b가 매개변수로 주어집니다. a와 b의 내적을 return 하도록 solution 함수를 완성\n",
    "이때, a와 b의 내적은 a[0]*b[0] + a[1]*b[1] + ... + a[n-1]*b[n-1] 입니다. (n은 a, b의 길이)\n",
    "    * a, b의 길이는 1 이상 1,000 이하\n",
    "    * a, b의 모든 수는 -1,000 이상 1,000 이하\n"
   ]
  },
  {
   "cell_type": "code",
   "execution_count": null,
   "metadata": {},
   "outputs": [],
   "source": [
    "def solution(a, b):\n",
    "    answer=[]\n",
    "    for i in range(len(a)):\n",
    "        answer.append(a[i]*b[i])\n",
    "        \n",
    "    return sum(answer)"
   ]
  },
  {
   "cell_type": "markdown",
   "metadata": {},
   "source": [
    "14. 문자열 내림차순으로 배치  \n",
    "문자열 s에 나타나는 문자를 큰것부터 작은 순으로 정렬해 새로운 문자열을 리턴하는 함수, solution을 완성해주세요.\n",
    "s는 영문 대소문자로만 구성되어 있으며, 대문자는 소문자보다 작은 것으로 간주\n",
    "    * str은 길이 1 이상인 문자열"
   ]
  },
  {
   "cell_type": "code",
   "execution_count": null,
   "metadata": {},
   "outputs": [],
   "source": [
    "def solution(s):\n",
    "    answer=list(s)\n",
    "    answer.sort(reverse=True)\n",
    "    return ''.join(answer)\n",
    "\n",
    "#sort 안쓰고 다시 풀어보기"
   ]
  },
  {
   "cell_type": "markdown",
   "metadata": {},
   "source": [
    "15. 문자열 다루기 기본  \n",
    "문자열 s의 길이가 4 혹은 6이고, 숫자로만 구성돼있는지 확인해주는 함수, solution을 완성하세요. 예를 들어 s가 \"a234\"이면 False를 리턴하고 \"1234\"라면 True를 리턴하면 됩니다.\n",
    "    * s는 길이 1 이상, 길이 8 이하인 문자열입니다.\n",
    "    * s는 영문 알파벳 대소문자 또는 0부터 9까지 숫자로 이루어져 있습니다."
   ]
  },
  {
   "cell_type": "code",
   "execution_count": null,
   "metadata": {},
   "outputs": [],
   "source": [
    "def solution(s):\n",
    "    \n",
    "    if len(s)==4 or len(s)==6:\n",
    "        if (s.isdigit()==True):\n",
    "            return True\n",
    "        else:\n",
    "            return False\n",
    "    else:\n",
    "        return False"
   ]
  },
  {
   "cell_type": "markdown",
   "metadata": {},
   "source": [
    "16. 약수의 개수와 덧셈  \n",
    "두 정수 left와 right가 매개변수로 주어집니다. left부터 right까지의 모든 수들 중에서, 약수의 개수가 짝수인 수는 더하고, 약수의 개수가 홀수인 수는 뺀 수를 return 하도록 solution 함수를 완성해주세요.\n",
    "    * 1 ≤ left ≤ right ≤ 1,000"
   ]
  },
  {
   "cell_type": "code",
   "execution_count": null,
   "metadata": {},
   "outputs": [],
   "source": [
    "def solution(left, right):\n",
    "    answer=0\n",
    "    count=0\n",
    "    for i in range(left, right+1):\n",
    "        for j in range(1, i+1):\n",
    "            if(i%j==0):\n",
    "                count+1\n",
    "            if(count%2==0):\n",
    "                answer+=j\n",
    "            else:\n",
    "                answer-=j\n",
    "    return answer"
   ]
  },
  {
   "cell_type": "markdown",
   "metadata": {},
   "source": [
    "17. 최댓값과 최솟값  \n",
    "문자열 s에는 공백으로 구분된 숫자들이 저장되어 있습니다. str에 나타나는 숫자 중 최소값과 최대값을 찾아 이를 \"(최소값) (최대값)\"형태의 문자열을 반환하는 함수, solution을 완성하세요.\n",
    "예를들어 s가 \"1 2 3 4\"라면 \"1 4\"를 리턴하고, \"-1 -2 -3 -4\"라면 \"-4 -1\"을 리턴하면 됩니다.\n",
    "    * s에는 둘 이상의 정수가 공백으로 구분되어"
   ]
  },
  {
   "cell_type": "code",
   "execution_count": null,
   "metadata": {},
   "outputs": [],
   "source": [
    "def solution(s):\n",
    "    listS=list(s.split(' '))\n",
    "    answer=str(min(listS))+\" \"+str(max(listS))\n",
    "    return answer"
   ]
  },
  {
   "cell_type": "markdown",
   "metadata": {},
   "source": [
    "18. 부족한 금액 계산  \n",
    "새로 생긴 놀이기구는 인기가 매우 많아 줄이 끊이질 않습니다. 이 놀이기구의 원래 이용료는 price원 인데, 놀이기구를 N 번 째 이용한다면 원래 이용료의 N배를 받기로 하였습니다. 즉, 처음 이용료가 100이었다면 2번째에는 200, 3번째에는 300으로 요금이 인상됩니다.\n",
    "놀이기구를 count번 타게 되면 현재 자신이 가지고 있는 금액에서 얼마가 모자라는지를 return 하도록 solution 함수를 완성하세요.\n",
    "단, 금액이 부족하지 않으면 0을 return 하세요.\n",
    "    * 놀이기구의 이용료 price : 1 ≤ price ≤ 2,500, price는 자연수\n",
    "    * 처음 가지고 있던 금액 money : 1 ≤ money ≤ 1,000,000,000, money는 자연수\n",
    "    * 놀이기구의 이용 횟수 count : 1 ≤ count ≤ 2,500, count는 자연수"
   ]
  },
  {
   "cell_type": "code",
   "execution_count": null,
   "metadata": {},
   "outputs": [],
   "source": [
    "def solution(price, money, count):\n",
    "    cost=0\n",
    "\n",
    "    for i in range(count+1):\n",
    "        cost+=(price*i)\n",
    "        \n",
    "    if money-cost>0:\n",
    "        return 0\n",
    "    \n",
    "    else:\n",
    "        return cost-money"
   ]
  },
  {
   "cell_type": "markdown",
   "metadata": {},
   "source": [
    "19. 행렬의 덧셈  \n",
    "행렬의 덧셈은 행과 열의 크기가 같은 두 행렬의 같은 행, 같은 열의 값을 서로 더한 결과가 됩니다. 2개의 행렬 arr1과 arr2를 입력받아, 행렬 덧셈의 결과를 반환하는 함수, solution을 완성해주세요.\n",
    "    * 행렬 arr1, arr2의 행과 열의 길이는 500을 넘지 않습"
   ]
  },
  {
   "cell_type": "code",
   "execution_count": null,
   "metadata": {},
   "outputs": [],
   "source": [
    "def solution(arr1, arr2):\n",
    "    for i in range(len(arr1)):\n",
    "        for j in range(len(arr1[0])):\n",
    "            arr1[i][j]+=arr2[i][j]\n",
    "        \n",
    "    return arr1\n",
    "\n",
    "#numpy?"
   ]
  },
  {
   "cell_type": "markdown",
   "metadata": {},
   "source": [
    "20. JadenCase 문자열 만들기  \n",
    "adenCase란 모든 단어의 첫 문자가 대문자이고, 그 외의 알파벳은 소문자인 문자열입니다. 단, 첫 문자가 알파벳이 아닐 때에는 이어지는 알파벳은 소문자로 쓰면 됩니다. (첫 번째 입출력 예 참고)\n",
    "문자열 s가 주어졌을 때, s를 JadenCase로 바꾼 문자열을 리턴하는 함수, solution을 완성해주세요.\n",
    "    * s는 길이 1 이상 200 이하인 문자열입니다.\n",
    "    * s는 알파벳과 숫자, 공백문자(\" \")로 이루어져 있습니다.\n",
    "    * 숫자는 단어의 첫 문자로만 나옵니다.\n",
    "    * 숫자로만 이루어진 단어는 없습니다.\n",
    "    * 공백문자가 연속해서 나올 수 있습니다."
   ]
  },
  {
   "cell_type": "code",
   "execution_count": null,
   "metadata": {},
   "outputs": [],
   "source": [
    "def solution(s) :\n",
    "    answer=''\n",
    "    for i in range(len(s)) :\n",
    "        if i==0:\n",
    "            if s[i].isnumeric() :\n",
    "                answer += s[i]\n",
    "                continue\n",
    "            else:\n",
    "                answer += s[i].upper()\n",
    "                continue\n",
    "        if s[i]==' ':\n",
    "            answer += ' '\n",
    "            continue\n",
    "        if s[i-1]==' ':\n",
    "            answer+=s[i].upper()\n",
    "        else:\n",
    "            answer+=s[i].lower()\n",
    "\n",
    "    return answer"
   ]
  },
  {
   "cell_type": "markdown",
   "metadata": {},
   "source": [
    "21. 직사각형 별찍기  \n",
    "이 문제에는 표준 입력으로 두 개의 정수 n과 m이 주어집니다.\n",
    "별(*) 문자를 이용해 가로의 길이가 n, 세로의 길이가 m인 직사각형 형태를 출력해보세요.\n",
    "    * n과 m은 각각 1000 이하인 자연수"
   ]
  },
  {
   "cell_type": "code",
   "execution_count": null,
   "metadata": {},
   "outputs": [],
   "source": [
    "a, b = map(int, input().strip().split(' '))\n",
    "answer = ('*'*a +'\\n')*b\n",
    "print(answer)"
   ]
  },
  {
   "cell_type": "markdown",
   "metadata": {},
   "source": [
    "22. 최대공약수와 최소공배수  \n",
    "두 수를 입력받아 두 수의 최대공약수와 최소공배수를 반환하는 함수, solution을 완성해 보세요. 배열의 맨 앞에 최대공약수, 그다음 최소공배수를 넣어 반환하면 됩니다. 예를 들어 두 수 3, 12의 최대공약수는 3, 최소공배수는 12이므로 solution(3, 12)는 [3, 12]를 반환해야 합니다.\n",
    "    * 두 수는 1이상 1000000이하의 자연수"
   ]
  },
  {
   "cell_type": "code",
   "execution_count": null,
   "metadata": {},
   "outputs": [],
   "source": [
    "def solution(a, b):\n",
    "    gcd=max(a, b)\n",
    "    lcm=min(a, b)\n",
    "    i=1\n",
    "    \n",
    "    while i > 0:\n",
    "        i=gcd%lcm\n",
    "        gcd=lcm\n",
    "        lcm=i\n",
    "    answer = [gcd, int(a*b/gcd)]\n",
    "\n",
    "    return answer"
   ]
  },
  {
   "cell_type": "markdown",
   "metadata": {},
   "source": [
    "23. 최솟값 만들기  \n",
    "길이가 같은 배열 A, B 두개가 있습니다. 각 배열은 자연수로 이루어져 있습니다. \n",
    "배열 A, B에서 각각 한 개의 숫자를 뽑아 두 수를 곱합니다. 이러한 과정을 배열의 길이만큼 반복하며, 두 수를 곱한 값을 누적하여 더합니다. 이때 최종적으로 누적된 값이 최소가 되도록 만드는 것이 목표입니다. (단, 각 배열에서 k번째 숫자를 뽑았다면 다음에 k번째 숫자는 다시 뽑을 수 없습니다.)\n",
    "예를 들어 A = [1, 4, 2] , B = [5, 4, 4] 라면\n",
    "A에서 첫번째 숫자인 1, B에서 첫번째 숫자인 5를 뽑아 곱하여 더합니다. (누적된 값 : 0 + 5(1x5) = 5)\n",
    "A에서 두번째 숫자인 4, B에서 세번째 숫자인 4를 뽑아 곱하여 더합니다. (누적된 값 : 5 + 16(4x4) = 21)\n",
    "A에서 세번째 숫자인 2, B에서 두번째 숫자인 4를 뽑아 곱하여 더합니다. (누적된 값 : 21 + 8(2x4) = 29)\n",
    "즉, 이 경우가 최소가 되므로 29를 return 합니다.\n",
    "배열 A, B가 주어질 때 최종적으로 누적된 최솟값을 return 하는 solution 함수를 완성해 주세요.\n",
    "    * 배열 A, B의 크기 : 1,000 이하의 자연수\n",
    "    * 배열 A, B의 원소의 크기 : 1,000 이하의 자연수"
   ]
  },
  {
   "cell_type": "code",
   "execution_count": null,
   "metadata": {},
   "outputs": [],
   "source": [
    "def solution(A,B):\n",
    "    answer=0\n",
    "    A.sort()\n",
    "    B.sort(reverse=True)\n",
    "\n",
    "    for i in range(len(A)):\n",
    "        answer+=A[i]*B[i]\n",
    "            \n",
    "    return answer"
   ]
  },
  {
   "cell_type": "markdown",
   "metadata": {},
   "source": [
    "24. 올바른 괄호  \n",
    "괄호가 바르게 짝지어졌다는 것은 '(' 문자로 열렸으면 반드시 짝지어서 ')' 문자로 닫혀야 한다는 뜻입니다. 예를 들어\n",
    "\"()()\" 또는 \"(())()\" 는 올바른 괄호입니다.\n",
    "\")()(\" 또는 \"(()(\" 는 올바르지 않은 괄호입니다.\n",
    "'(' 또는 ')' 로만 이루어진 문자열 s가 주어졌을 때, 문자열 s가 올바른 괄호이면 true를 return 하고, 올바르지 않은 괄호이면 false를 return 하는 solution 함수를 완성해 주세요.\n",
    "    * 문자열 s의 길이 : 100,000 이하의 자연수\n",
    "    * 문자열 s는 '(' 또는 ')' 로만 이루어져 있습"
   ]
  },
  {
   "cell_type": "code",
   "execution_count": null,
   "metadata": {},
   "outputs": [],
   "source": [
    "def solution(s):\n",
    "    answer=[]\n",
    "    for i in s:\n",
    "        if i==\"(\":\n",
    "            answer.append(i)\n",
    "        else:\n",
    "            if answer:\n",
    "                answer.pop()\n",
    "            else:\n",
    "                return False\n",
    "    if answer:\n",
    "        return False\n",
    "    \n",
    "    return True"
   ]
  },
  {
   "cell_type": "markdown",
   "metadata": {},
   "source": [
    "25. 이진 변환 반복하기  \n",
    "0과 1로 이루어진 어떤 문자열 x에 대한 이진 변환을 다음과 같이 정의합니다.\n",
    "x의 모든 0을 제거합니다.\n",
    "x의 길이를 c라고 하면, x를 \"c를 2진법으로 표현한 문자열\"로 바꿉니다.\n",
    "예를 들어, x = \"0111010\"이라면, x에 이진 변환을 가하면 x = \"0111010\" -> \"1111\" -> \"100\" 이 됩니다.\n",
    "0과 1로 이루어진 문자열 s가 매개변수로 주어집니다. s가 \"1\"이 될 때까지 계속해서 s에 이진 변환을 가했을 때, 이진 변환의 횟수와 변환 과정에서 제거된 모든 0의 개수를 각각 배열에 담아 return 하도록 solution 함수를 완성해주세요.\n",
    "    * s의 길이는 1 이상 150,000 이하입니다.\n",
    "    * s에는 '1'이 최소 하나 이상 포함되어 있습"
   ]
  },
  {
   "cell_type": "code",
   "execution_count": null,
   "metadata": {},
   "outputs": [],
   "source": [
    "def solution(s):\n",
    "    count=0\n",
    "    zero=0\n",
    "\n",
    "    while s!='1':\n",
    "        count+=1\n",
    "        zero+=s.count('0')\n",
    "        s=bin(len(s.replace('0', '')))[2:]\n",
    "    return [count, zero]"
   ]
  },
  {
   "cell_type": "markdown",
   "metadata": {},
   "source": [
    "26. 같은 숫자는 싫어  \n",
    "배열 arr가 주어집니다. 배열 arr의 각 원소는 숫자 0부터 9까지로 이루어져 있습니다. 이때, 배열 arr에서 연속적으로 나타나는 숫자는 하나만 남기고 전부 제거하려고 합니다. 단, 제거된 후 남은 수들을 반환할 때는 배열 arr의 원소들의 순서를 유지해야 합니다. 예를 들면,\n",
    "arr = [1, 1, 3, 3, 0, 1, 1] 이면 [1, 3, 0, 1] 을 return 합니다.\n",
    "arr = [4, 4, 4, 3, 3] 이면 [4, 3] 을 return 합니다.\n",
    "배열 arr에서 연속적으로 나타나는 숫자는 제거하고 남은 수들을 return 하는 solution 함수를 완성해 주세요.\n",
    "    * 배열 arr의 크기 : 1,000,000 이하의 자연수\n",
    "    * 배열 arr의 원소의 크기 : 0보다 크거나 같고 9보다 작거나 같은 정수"
   ]
  },
  {
   "cell_type": "code",
   "execution_count": null,
   "metadata": {},
   "outputs": [],
   "source": [
    "def solution(arr):\n",
    "    answer=[]\n",
    "    res=arr[0]\n",
    "    answer.append(res)\n",
    "    \n",
    "    for i in arr:\n",
    "        if i!=res:\n",
    "            res=i\n",
    "            answer.append(i)\n",
    "    return answer"
   ]
  },
  {
   "cell_type": "markdown",
   "metadata": {},
   "source": [
    "27. 숫자의 표현  \n",
    "Finn은 요즘 수학공부에 빠져 있습니다. 수학 공부를 하던 Finn은 자연수 n을 연속한 자연수들로 표현 하는 방법이 여러개라는 사실을 알게 되었습니다. 예를들어 15는 다음과 같이 4가지로 표현 할 수 있습니다.\n",
    "1 + 2 + 3 + 4 + 5 = 15\n",
    "4 + 5 + 6 = 15\n",
    "7 + 8 = 15\n",
    "15 = 15\n",
    "자연수 n이 매개변수로 주어질 때, 연속된 자연수들로 n을 표현하는 방법의 수를 return하는 solution를 완성해주세요.\n",
    "    * n은 10,000 이하의 자연수"
   ]
  },
  {
   "cell_type": "code",
   "execution_count": null,
   "metadata": {},
   "outputs": [],
   "source": [
    "def solution(n):\n",
    "    answer=0\n",
    "    res=0\n",
    "    \n",
    "    for i in range(1, n+1):\n",
    "        for j in range(i, n+1):\n",
    "            res+=j\n",
    "            if res==n:\n",
    "                answer+=1\n",
    "            elif res>n:\n",
    "                break\n",
    "                \n",
    "    return answer"
   ]
  },
  {
   "cell_type": "markdown",
   "metadata": {},
   "source": [
    "28. 이상한 문자 만들기  \n",
    "문자열 s는 한 개 이상의 단어로 구성되어 있습니다. 각 단어는 하나 이상의 공백문자로 구분되어 있습니다. 각 단어의 짝수번째 알파벳은 대문자로, 홀수번째 알파벳은 소문자로 바꾼 문자열을 리턴하는 함수, solution을 완성하세요.\n",
    "    * 문자열 전체의 짝/홀수 인덱스가 아니라, 단어(공백을 기준)별로 짝/홀수 인덱스를 판단해야합니다.\n",
    "    * 첫 번째 글자는 0번째 인덱스로 보아 짝수번째 알파벳으로 처리"
   ]
  },
  {
   "cell_type": "code",
   "execution_count": null,
   "metadata": {},
   "outputs": [],
   "source": [
    "def solution(s):\n",
    "    answer = ''\n",
    "    count = 0\n",
    "    \n",
    "    for i in s: \n",
    "        if i==\" \":\n",
    "            answer+=\" \"\n",
    "            count=0\n",
    "            \n",
    "        else:\n",
    "            if count==0 or count%2==0:\n",
    "                answer+=i.upper()\n",
    "            else:\n",
    "                answer+=i.lower()\n",
    "            count+=1\n",
    "            \n",
    "    return answer"
   ]
  },
  {
   "cell_type": "markdown",
   "metadata": {},
   "source": [
    "29. 3진법 뒤집기  \n",
    "자연수 n이 매개변수로 주어집니다. n을 3진법 상에서 앞뒤로 뒤집은 후, 이를 다시 10진법으로 표현한 수를 return 하도록 solution 함수를 완성해주세요.\n",
    "    * n은 1 이상 100,000,000 이하인 자연수"
   ]
  },
  {
   "cell_type": "code",
   "execution_count": null,
   "metadata": {},
   "outputs": [],
   "source": [
    "def solution(n):\n",
    "    answer=''\n",
    "    \n",
    "    while n>=3:\n",
    "        answer+=str(n%3)\n",
    "        n//=3\n",
    "        \n",
    "        if n<3:\n",
    "            answer+=str(n)\n",
    "        \n",
    "    if answer=='':\n",
    "        answer=str(n)\n",
    "    \n",
    "    answer=int(answer, a=3)\n",
    "    \n",
    "    return answer"
   ]
  },
  {
   "cell_type": "markdown",
   "metadata": {},
   "source": [
    "30. 예산  \n",
    "S사에서는 각 부서에 필요한 물품을 지원해 주기 위해 부서별로 물품을 구매하는데 필요한 금액을 조사했습니다. 그러나, 전체 예산이 정해져 있기 때문에 모든 부서의 물품을 구매해 줄 수는 없습니다. 그래서 최대한 많은 부서의 물품을 구매해 줄 수 있도록 하려고 합니다.\n",
    "물품을 구매해 줄 때는 각 부서가 신청한 금액만큼을 모두 지원해 줘야 합니다. 예를 들어 1,000원을 신청한 부서에는 정확히 1,000원을 지원해야 하며, 1,000원보다 적은 금액을 지원해 줄 수는 없습니다.\n",
    "부서별로 신청한 금액이 들어있는 배열 d와 예산 budget이 매개변수로 주어질 때, 최대 몇 개의 부서에 물품을 지원할 수 있는지 return 하도록 solution 함수를 완성해주세요.\n",
    "    * d는 부서별로 신청한 금액이 들어있는 배열이며, 길이(전체 부서의 개수)는 1 이상 100 이하입니다.\n",
    "    * d의 각 원소는 부서별로 신청한 금액을 나타내며, 부서별 신청 금액은 1 이상 100,000 이하의 자연수입니다.\n",
    "    * budget은 예산을 나타내며, 1 이상 10,000,000 이하의 자연수"
   ]
  },
  {
   "cell_type": "code",
   "execution_count": null,
   "metadata": {},
   "outputs": [],
   "source": [
    "def solution(d, budget):\n",
    "    answer=0\n",
    "    money=0\n",
    "    \n",
    "    for i in sorted(d):\n",
    "        money+=i\n",
    "        answer+=1\n",
    "        \n",
    "        if money>budget:\n",
    "            money-=i\n",
    "            answer-=1\n",
    "            break\n",
    "        \n",
    "    return answer"
   ]
  }
 ],
 "metadata": {
  "language_info": {
   "name": "python"
  },
  "orig_nbformat": 4
 },
 "nbformat": 4,
 "nbformat_minor": 2
}
